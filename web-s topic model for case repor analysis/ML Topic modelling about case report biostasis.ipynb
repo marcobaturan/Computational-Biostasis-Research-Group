{
 "cells": [
  {
   "cell_type": "markdown",
   "id": "03dc2062",
   "metadata": {},
   "source": [
    "Before launch the notebook: run the setup.py for proper execution and easy operation.\n",
    "\n",
    "1º) \"$python setup.py\" -INTRO\n",
    "\n",
    "2º) After setup the environment launch the notebook\n",
    "\n",
    "3º) Read the recources at foot of the document, only if you need refresh or understand the basics of ML and TM (Machine Learning and Topic Modelling)"
   ]
  },
  {
   "cell_type": "code",
   "execution_count": 1,
   "id": "65c6a4c8",
   "metadata": {},
   "outputs": [
    {
     "name": "stderr",
     "output_type": "stream",
     "text": [
      "[nltk_data] Downloading package wordnet to /home/marco/nltk_data...\n",
      "[nltk_data]   Package wordnet is already up-to-date!\n"
     ]
    },
    {
     "data": {
      "text/plain": [
       "True"
      ]
     },
     "execution_count": 1,
     "metadata": {},
     "output_type": "execute_result"
    }
   ],
   "source": [
    "# import\n",
    "from selenium import webdriver\n",
    "from selenium.webdriver.chrome.options import Options\n",
    "from bs4 import BeautifulSoup\n",
    "import pandas as pd\n",
    "import nltk\n",
    "nltk.download('wordnet')"
   ]
  },
  {
   "cell_type": "code",
   "execution_count": 2,
   "id": "281910bc",
   "metadata": {},
   "outputs": [],
   "source": [
    "# empty list dataset\n",
    "dataset = []"
   ]
  },
  {
   "cell_type": "code",
   "execution_count": 3,
   "id": "7634f15a",
   "metadata": {},
   "outputs": [],
   "source": [
    "# configuration\n",
    "options = Options()\n",
    "options.add_argument('--headless') # hide broser's window\n",
    "driver = webdriver.Chrome(options=options)"
   ]
  },
  {
   "cell_type": "code",
   "execution_count": null,
   "id": "9b65de40",
   "metadata": {},
   "outputs": [],
   "source": [
    "# acces to case reports sections and browse case by case, then store in a list every report\n",
    "for p in range(1, 133): # change to complete list 5):\n",
    "    driver.get(\"https://www.cryonics.org/case-reports/P{}\".format(p))\n",
    "    search = driver.find_element_by_class_name('itemTitle')\n",
    "    search.click()\n",
    "    element=driver.find_element_by_class_name(\"itemBody\").text\n",
    "    dataset.append(element)\n",
    "    # print(element) # uncomment if you like see the results\n",
    "#print(dataset) # uncomment if you like see the results"
   ]
  },
  {
   "cell_type": "code",
   "execution_count": null,
   "id": "f2798792",
   "metadata": {},
   "outputs": [],
   "source": [
    "# Latent Dirichlet Allocation for Topic Modeling\n",
    "from nltk.corpus import stopwords\n",
    "from nltk.stem.wordnet import WordNetLemmatizer\n",
    "import string\n",
    "stop = set(stopwords.words('english'))\n",
    "exclude = set(string.punctuation)\n",
    "lemma = WordNetLemmatizer()\n",
    "\n",
    "# clean data from text\n",
    "def clean(doc):\n",
    "    stop_free = \" \".join([i for i in doc.lower().split() if i not in stop])\n",
    "    punc_free = ''.join(ch for ch in stop_free if ch not in exclude)\n",
    "    normalized = \" \".join(lemma.lemmatize(word) for word in punc_free.split())\n",
    "    return normalized\n",
    "\n",
    "doc_clean = [clean(doc).split() for doc in dataset] "
   ]
  },
  {
   "cell_type": "code",
   "execution_count": null,
   "id": "cb27e8e1",
   "metadata": {},
   "outputs": [],
   "source": [
    "# Importing Gensim\n",
    "import gensim\n",
    "from gensim import corpora\n",
    "\n",
    "# Creating the term dictionary of our courpus, where every unique term is assigned \n",
    "# an index. \n",
    "dictionary = corpora.Dictionary(doc_clean)\n",
    "\n",
    "# Converting list of documents (corpus) into Document Term Matrix using dictionary prepared above.\n",
    "doc_term_matrix = [dictionary.doc2bow(doc) for doc in doc_clean]"
   ]
  },
  {
   "cell_type": "code",
   "execution_count": null,
   "id": "d32cfd32",
   "metadata": {},
   "outputs": [],
   "source": [
    "# Creating the object for LDA model using gensim library\n",
    "Lda = gensim.models.ldamodel.LdaModel\n",
    "\n",
    "# Running and Trainign LDA model on the document term matrix.\n",
    "ldamodel = Lda(doc_term_matrix, num_topics=3, id2word = dictionary, passes=50)"
   ]
  },
  {
   "cell_type": "code",
   "execution_count": null,
   "id": "b78b8115",
   "metadata": {
    "scrolled": true
   },
   "outputs": [],
   "source": [
    "topic_model=ldamodel.print_topics(num_topics=50, num_words=10)\n",
    "for tfrequencylist in topic_model:\n",
    "    for tf in tfrequencylist:\n",
    "        print(tf)"
   ]
  },
  {
   "cell_type": "code",
   "execution_count": null,
   "id": "97a2c1e1",
   "metadata": {},
   "outputs": [],
   "source": [
    "#df = pd.DataFrame({'Product Name':products,'Price':prices,'Rating':ratings}) \n",
    "#df.to_csv('products.csv', index=False, encoding='utf-8')"
   ]
  },
  {
   "cell_type": "code",
   "execution_count": null,
   "id": "bf154514",
   "metadata": {},
   "outputs": [],
   "source": []
  },
  {
   "cell_type": "markdown",
   "id": "791543b9",
   "metadata": {},
   "source": [
    "resources:\n",
    "https://www.edureka.co/blog/web-scraping-with-python/\n",
    "\n",
    "https://medium.com/@nieves_as/conceptos-en-la-extracci%C3%B3n-autom%C3%A1tica-de-informaci%C3%B3n-de-documentos-c6dfcf6ba36a\n",
    "\n",
    "https://www.analyticsvidhya.com/blog/2016/08/beginners-guide-to-topic-modeling-in-python/\n",
    "\n",
    "https://monkeylearn.com/topic-analysis/\n",
    "\n",
    "https://subscription.packtpub.com/book/web_development/9781783289554/1/ch01lvl1sec08/installing-beautiful-soup\n",
    "\n",
    "https://radimrehurek.com/gensim/intro.html"
   ]
  }
 ],
 "metadata": {
  "kernelspec": {
   "display_name": "Python 3",
   "language": "python",
   "name": "python3"
  },
  "language_info": {
   "codemirror_mode": {
    "name": "ipython",
    "version": 3
   },
   "file_extension": ".py",
   "mimetype": "text/x-python",
   "name": "python",
   "nbconvert_exporter": "python",
   "pygments_lexer": "ipython3",
   "version": "3.8.5"
  }
 },
 "nbformat": 4,
 "nbformat_minor": 5
}
