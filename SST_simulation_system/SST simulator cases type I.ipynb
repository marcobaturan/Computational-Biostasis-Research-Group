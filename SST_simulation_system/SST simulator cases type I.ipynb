{
 "cells": [
  {
   "cell_type": "markdown",
   "id": "e953eff0",
   "metadata": {},
   "source": [
    "\"\"\"SST simulator case I.\n",
    "\n",
    "    Basic simulator of an organization of Stand By, stabilization \n",
    "    and transport of a cryonic case.\n",
    "    Where the system (SST) is composed of:\n",
    "    + a subject (patient)\n",
    "    + three agents (doctor, thanatopractician, ambulance)\n",
    "    + a variable set of time ranges.\n",
    "    The objective is to simulate a set of cases to extract the \n",
    "    average and statistics to decide how to improve a \n",
    "    cryonic suspension procedure.\n",
    "    \n",
    "    NOTE: this is ideal case (Die by old age, euthanasia on public hospital, \n",
    "    perfect collaboration between center and SST, perfect timing between steps, \n",
    "    all costs paid, all documents and arrangements made It.\n",
    "\n",
    "\"\"\""
   ]
  },
  {
   "cell_type": "code",
   "execution_count": 1,
   "id": "433a642e",
   "metadata": {},
   "outputs": [],
   "source": [
    "# Imports\n",
    "import simpy\n",
    "import random\n",
    "import statistics\n",
    "from colorama import init\n",
    "from termcolor import colored\n",
    "import matplotlib.pyplot as plt"
   ]
  },
  {
   "cell_type": "code",
   "execution_count": 2,
   "id": "a08b38ee",
   "metadata": {},
   "outputs": [],
   "source": [
    "# Variables\n",
    "wait_times = []\n",
    "population = 50 # Stimation of most probable ative cryonicist in Spain, please modify this parameter per country"
   ]
  },
  {
   "cell_type": "markdown",
   "id": "d07a5246",
   "metadata": {},
   "source": [
    "\"\"\"SST.\n",
    "\n",
    "    SST = Stand By, Stabilization, Transport\n",
    "    Embalmer = thanatopractitioner\n",
    "    Medico = dispensing death certificate and embalming\n",
    "    Stand By = metabolic support and hypothermia of the patient, \n",
    "    manual (voluntary) or mechanical (ECMO, LUCA)\n",
    "    Stabilisation = controlled perfusion of cryoprotective fluids, \n",
    "    following IC protocol and formulas for reasons of economy.\n",
    "\n",
    "    This class instantiates the environment with its constituent \n",
    "    agents to iterate their actions with varying times, simulate good and bad times, \n",
    "    collect them and make a statistic of the average time. \n",
    "\n",
    "    Allowing to make simulations ahead of any practice and \n",
    "    thus reduce incidences or hazards for the patient.\n",
    "\n",
    "\"\"\""
   ]
  },
  {
   "cell_type": "code",
   "execution_count": 3,
   "id": "f44d6b33",
   "metadata": {},
   "outputs": [],
   "source": [
    "class Sst(object):\n",
    "    # Environment\n",
    "    def __init__(self, env, agent_embalmer, agent_doctor, agent_ambulance, agent_place):\n",
    "        self.env = env\n",
    "        self.embalmer = simpy.Resource(env, agent_embalmer)\n",
    "        self.doctor = simpy.Resource(env, agent_doctor)\n",
    "        self.ambulance = simpy.Resource(env, agent_ambulance)\n",
    "        self.place = simpy.Resource(env, agent_place)\n",
    "\n",
    "    def death_authorization(self, patient):\n",
    "        # Remember: timeout is limited to 12 hours\n",
    "        yield self.env.timeout(random.randint(1, 6))\n",
    "\n",
    "    def embalming_authorization(self, patient):\n",
    "        yield self.env.timeout(random.randint(1, 6))\n",
    "\n",
    "    def stand_by(self, patient):\n",
    "        # No more than 1h support\n",
    "        yield self.env.timeout(random.randint(0, 1))\n",
    "    \n",
    "    def perfusion(self, patient):\n",
    "        # Time is optimizing for only head perfusion.\n",
    "        yield self.env.timeout(random.randint(0, 1))"
   ]
  },
  {
   "cell_type": "markdown",
   "id": "973d81da",
   "metadata": {},
   "source": [
    "\"\"\"Deanimation.\n",
    "\n",
    "    State of legal death of patiente.\n",
    "    Call the variables and instance of environment, patient and SST.\n",
    "    Simulate de arrivel, embalmer taking the death authorization, \n",
    "    embalming authorization and open option of start Stand By \n",
    "    under doctor control. Take the generated times by step.\n",
    "    \n",
    "    In resume: start the event of cryonics suspenson by deanimation\n",
    "    and take the generated data with random factor times to generate\n",
    "    all possible states of every case.\n",
    "    \n",
    "\"\"\""
   ]
  },
  {
   "cell_type": "code",
   "execution_count": 4,
   "id": "cfef2967",
   "metadata": {},
   "outputs": [],
   "source": [
    "def deanimation(env, patient, sst):\n",
    "    # patient arrives at the Sst\n",
    "    arrival_time = env.now\n",
    "\n",
    "    if random.choice([True, False]): # Hypotetical case of extreme delay and simulate the doctor decision of\n",
    "        with sst.doctor.request() as request: # apply stand by or straigh freeze.\n",
    "            yield request\n",
    "            yield env.process(sst.stand_by(patient))\n",
    "            \n",
    "    with sst.embalmer.request() as request:\n",
    "        yield request\n",
    "        yield env.process(sst.death_authorization(patient))\n",
    "\n",
    "    with sst.ambulance.request() as request:\n",
    "        yield request\n",
    "        yield env.process(sst.embalming_authorization(patient))\n",
    "    \n",
    "    with sst.place.request() as request:\n",
    "        yield request\n",
    "        yield env.process(sst.perfusion(patient))\n",
    "\n",
    "    # patient heads into the Sst\n",
    "    wait_times.append(env.now - arrival_time)"
   ]
  },
  {
   "cell_type": "markdown",
   "id": "1e2a5dec",
   "metadata": {},
   "source": [
    "\"\"\"Run SST.\n",
    "\n",
    "    Function who runs the procedure of execution environment.\n",
    "    Take the constants and variables Environment, Embalmer,\n",
    "    Doctor, ambulance.\n",
    "    \n",
    "    Launch one deanimation per patient.\n",
    "    And generate another case after ending the last.\n",
    "    For take enought data for statistics.\n",
    "\n",
    "\"\"\""
   ]
  },
  {
   "cell_type": "code",
   "execution_count": 5,
   "id": "5ce8ecdc",
   "metadata": {},
   "outputs": [],
   "source": [
    "def run_Sst(env, agent_embalmer, agent_doctor, agent_ambulance, agent_place, population):\n",
    "    # Execute instantiation environment and get agents to simulate.\n",
    "    sst = Sst(env, agent_embalmer, agent_doctor, agent_ambulance, agent_place)\n",
    "\n",
    "    for patient in range(population): # Stimated population of active possible cryonicist in a country\n",
    "        env.process(deanimation(env, patient, sst))\n",
    "    \n",
    "    while True:\n",
    "        yield env.timeout(0.20)  # Wait a bit before generating a new patient in simulation.\n",
    "\n",
    "        patient += 1\n",
    "        env.process(deanimation(env, patient, sst))"
   ]
  },
  {
   "cell_type": "markdown",
   "id": "c3289b94",
   "metadata": {},
   "source": [
    "\"\"\"Get average wait time.\n",
    "    \n",
    "    Function with procedure to generate the average time and \n",
    "    feed the result to show general average time of \n",
    "    suspension.\n",
    "    \n",
    "\"\"\""
   ]
  },
  {
   "cell_type": "code",
   "execution_count": 6,
   "id": "1c5d0b83",
   "metadata": {},
   "outputs": [],
   "source": [
    "def get_average_wait_time(wait_times):\n",
    "    average_wait = statistics.mean(wait_times)\n",
    "    # Pretty print the results\n",
    "    minutes, frac_minutes = divmod(average_wait, 1)\n",
    "    seconds = frac_minutes * 60\n",
    "    return round(minutes), round(seconds)"
   ]
  },
  {
   "cell_type": "code",
   "execution_count": 7,
   "id": "9fa7d82f",
   "metadata": {},
   "outputs": [],
   "source": [
    "def graph_and_statistics(wait_times):\n",
    "    time_limit=[50]\n",
    "    average_wait = statistics.mean(wait_times)\n",
    "    mode_wait = statistics.mode(wait_times)\n",
    "    median_wait = statistics.median(wait_times)\n",
    "    print(\"Print mode times: \",mode_wait)\n",
    "    print(\"Print median times: \",median_wait)\n",
    "    print(\"Print wait times list: \",wait_times)\n",
    "    print(\"Print average wait: \", round(average_wait),'red line')\n",
    "    plt.axhline(round(average_wait), color=\"red\")\n",
    "    plt.bar(wait_times,wait_times)\n",
    "    plt.title(\"global wait times per case\")\n",
    "    plt.ylabel('Max time: 100 minutes')\n",
    "    plt.xlabel('Sorted generated cases')\n",
    "    plt.show()"
   ]
  },
  {
   "cell_type": "markdown",
   "id": "6906990a",
   "metadata": {},
   "source": [
    "\"\"\"Get user input.\n",
    "\n",
    "    Function with procedure to control input\n",
    "    of flow chart in environment.\n",
    "    It is pre-configured to not interaction\n",
    "    with user.\n",
    "    \n",
    "\"\"\""
   ]
  },
  {
   "cell_type": "code",
   "execution_count": 8,
   "id": "c16f87a8",
   "metadata": {},
   "outputs": [],
   "source": [
    "def get_user_input():\n",
    "    agent_embalmer = \"1\"\n",
    "    agent_doctor = \"1\"\n",
    "    agent_ambulance = \"1\"\n",
    "    agent_place = \"1\"\n",
    "    params = [agent_embalmer, agent_doctor, agent_ambulance, agent_place]\n",
    "    if all(str(i).isdigit() for i in params):  # Check input is valid\n",
    "        params = [int(x) for x in params]\n",
    "    else:\n",
    "        print(\n",
    "            \"Could not parse input. Simulation will use default values:\",\n",
    "            \"\\n1 embalmer, 1 doctor, 1 ambulance.\",\n",
    "        )\n",
    "        params = [\"1\", \"1\", \"1\"]\n",
    "    return params"
   ]
  },
  {
   "cell_type": "markdown",
   "id": "cb8ea06a",
   "metadata": {},
   "source": [
    "\"\"\"Main.\n",
    "\n",
    "    Main function launch and run all simulation, process and show the results.\n",
    "    \n",
    "    Next objectives:\n",
    "    \n",
    "     + Add param times ambulance.\n",
    "     + Add individual times of doctor, embalmer, ambulance, wait time at funeral home, fly shipping.\n",
    "     + Add readable and markdown color table he general and specific data.\n",
    "     \n",
    "\"\"\""
   ]
  },
  {
   "cell_type": "code",
   "execution_count": 9,
   "id": "b8eb756d",
   "metadata": {},
   "outputs": [],
   "source": [
    "def main():\n",
    "    # Setup\n",
    "    random.seed(42)\n",
    "    agent_embalmer, agent_doctor, agent_ambulance, agent_place = get_user_input()\n",
    "\n",
    "    # Run the simulation\n",
    "    env = simpy.Environment()\n",
    "    env.process(run_Sst(env, agent_embalmer, agent_doctor, agent_ambulance, agent_place, population))\n",
    "    env.run(until=90)\n",
    "    # View the results\n",
    "    mins, secs = get_average_wait_time(wait_times)\n",
    "    print(colored(f\"Based in stimated population in country: {population}\",\"grey\",\"on_blue\"))\n",
    "    print(\n",
    "        \"Running simulation...                \\n\"+\n",
    "        \"Protocol:                            \\n\"+\n",
    "        \"1º death authorization               \\n\"+\n",
    "        \"2º embalming authorization           \\n\"+\n",
    "        \"3º stand by                          \\n\"+\n",
    "        \"4º stabilization/perfusion           \\n\"+\n",
    "        f\"\\nThe average wait time is {mins} minutes and {secs} seconds.\"\n",
    "    )\n",
    "    graph_and_statistics(wait_times)"
   ]
  },
  {
   "cell_type": "code",
   "execution_count": 10,
   "id": "6dab7afb",
   "metadata": {},
   "outputs": [
    {
     "name": "stdout",
     "output_type": "stream",
     "text": [
      "\u001b[44m\u001b[30mBased in stimated population in country: 50\u001b[0m\n",
      "Running simulation...                \n",
      "Protocol:                            \n",
      "1º death authorization               \n",
      "2º embalming authorization           \n",
      "3º stand by                          \n",
      "4º stabilization/perfusion           \n",
      "\n",
      "The average wait time is 45 minutes and 21 seconds.\n",
      "Print mode times:  64\n",
      "Print median times:  48.0\n",
      "Print wait times list:  [5, 11, 14, 17, 19, 20, 24, 27, 36, 41, 47, 49, 54, 59, 64, 64, 65, 70, 72.8, 75.6, 80.2, 83.0]\n",
      "Print average wait:  45 red line\n"
     ]
    },
    {
     "data": {
      "image/png": "[encoded data removed]",
      "text/plain": [
       "<Figure size 432x288 with 1 Axes>"
      ]
     },
     "metadata": {
      "needs_background": "light"
     },
     "output_type": "display_data"
    }
   ],
   "source": [
    "if __name__ == \"__main__\":\n",
    "    main()"
   ]
  },
  {
   "cell_type": "code",
   "execution_count": 11,
   "id": "8858eb83",
   "metadata": {},
   "outputs": [],
   "source": [
    "# Resources:\n",
    "# https://github.com/realpython/materials/blob/master/simulation-with-simpy/simulate.py\n",
    "# https://simpy.readthedocs.io/en/latest/\n",
    "# https://www.cryonics.org/ci-landing/guide-to-cryonics-procedures/\n",
    "# https://sociedadcrionica.org\n",
    "# https://pypi.org/project/colorama/\n",
    "# https://datatofish.com/bar-chart-python-matplotlib/\n",
    "# http://matplotlib.1069221.n5.nabble.com/Bar-chart-line-chart-td12470.html"
   ]
  },
  {
   "cell_type": "code",
   "execution_count": 12,
   "id": "7fe3b335",
   "metadata": {},
   "outputs": [],
   "source": [
    "# Notes:\n",
    "# Stimation of cryonicist population in Spain: 100, but between people who can't afford or delay cut by !/2."
   ]
  }
 ],
 "metadata": {
  "kernelspec": {
   "display_name": "Python 3",
   "language": "python",
   "name": "python3"
  },
  "language_info": {
   "codemirror_mode": {
    "name": "ipython",
    "version": 3
   },
   "file_extension": ".py",
   "mimetype": "text/x-python",
   "name": "python",
   "nbconvert_exporter": "python",
   "pygments_lexer": "ipython3",
   "version": "3.8.5"
  }
 },
 "nbformat": 4,
 "nbformat_minor": 5
}
